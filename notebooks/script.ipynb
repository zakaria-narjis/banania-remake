{
 "cells": [
  {
   "cell_type": "code",
   "execution_count": null,
   "id": "cbac77b8",
   "metadata": {
    "vscode": {
     "languageId": "plaintext"
    }
   },
   "outputs": [],
   "source": [
    "import re\n",
    "import json\n",
    "from collections import defaultdict\n",
    "\n",
    "# Input JS file\n",
    "input_js_file = \"levels.js\"\n",
    "# Output JSON file\n",
    "output_json_file = \"levels.json\"\n",
    "\n",
    "# Read the JS file\n",
    "with open(input_js_file, \"r\") as f:\n",
    "    js_content = f.read()\n",
    "\n",
    "# Regex to match level arrays\n",
    "pattern = re.compile(r\"EXTERNAL_LEVELS\\[(\\d+)\\]\\[(\\d+)\\]\\s*=\\s*new Array\\((.*?)\\);\")\n",
    "\n",
    "# Use defaultdict to collect rows by level\n",
    "levels_dict = defaultdict(list)\n",
    "\n",
    "# Find all matches\n",
    "for lvl_idx, row_idx, numbers in pattern.findall(js_content):\n",
    "    lvl_idx = int(lvl_idx)\n",
    "    row_idx = int(row_idx)\n",
    "    row = [int(n.strip()) for n in numbers.split(\",\")]\n",
    "    levels_dict[lvl_idx].append((row_idx, row))\n",
    "\n",
    "# Sort rows and build the final levels list\n",
    "json_levels = []\n",
    "for lvl_idx in sorted(levels_dict.keys()):\n",
    "    # Sort rows by row index\n",
    "    sorted_rows = [row for _, row in sorted(levels_dict[lvl_idx])]\n",
    "    json_levels.append(sorted_rows)\n",
    "\n",
    "# Save to JSON\n",
    "with open(output_json_file, \"w\") as f:\n",
    "    json.dump({\"levels\": json_levels}, f, indent=2)\n",
    "\n",
    "print(f\"Converted {len(json_levels)} levels to {output_json_file}\")\n"
   ]
  }
 ],
 "metadata": {
  "language_info": {
   "name": "python"
  }
 },
 "nbformat": 4,
 "nbformat_minor": 5
}
