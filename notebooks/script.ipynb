{
 "cells": [
  {
   "cell_type": "code",
   "execution_count": 44,
   "id": "cbac77b8",
   "metadata": {},
   "outputs": [
    {
     "name": "stdout",
     "output_type": "stream",
     "text": [
      "Converted 51 levels to C:\\Users\\zakaria\\workspace\\banania-remake\\\\banania_pygame\\assets\\levels\\levels.json\n"
     ]
    }
   ],
   "source": [
    "import re\n",
    "import json\n",
    "from collections import defaultdict\n",
    "import os\n",
    "\n",
    "# Input and output files\n",
    "input_js_file = \"C:\\\\Users\\\\zakaria\\\\workspace\\\\banania-remake\\\\game_js\\\\level\\\\level.js\"\n",
    "output_json_file = \"C:\\\\Users\\\\zakaria\\\\workspace\\\\banania-remake\\\\\\\\banania_pygame\\\\assets\\\\levels\\\\levels.json\"\n",
    "# Check if input file exists\n",
    "if not os.path.exists(\"C:\\\\Users\\\\zakaria\\\\workspace\\\\banania-remake\\\\\"):\n",
    "    raise FileNotFoundError(\"The specified path does not exist: C:\\\\Users\\\\zakaria\\\\\")\n",
    "if not os.path.isfile(input_js_file):\n",
    "    raise FileNotFoundError(f\"Input file not found: {input_js_file}\")\n",
    "\n",
    "# Make sure output directory exists\n",
    "os.makedirs(os.path.dirname(output_json_file), exist_ok=True)\n",
    "\n",
    "# Read the JS file\n",
    "with open(input_js_file, \"r\", encoding=\"utf-8\") as f:\n",
    "    js_content = f.read()\n",
    "\n",
    "# Regex to match level arrays\n",
    "pattern = re.compile(r\"EXTERNAL_LEVELS\\[(\\d+)\\]\\[(\\d+)\\]\\s*=\\s*new Array\\((.*?)\\);\")\n",
    "\n",
    "# Use defaultdict to collect rows by level\n",
    "levels_dict = defaultdict(list)\n",
    "\n",
    "# Find all matches\n",
    "for lvl_idx, row_idx, numbers in pattern.findall(js_content):\n",
    "    lvl_idx = int(lvl_idx)\n",
    "    row_idx = int(row_idx)\n",
    "    row = [int(n.strip()) for n in numbers.split(\",\")]\n",
    "    levels_dict[lvl_idx].append((row_idx, row))\n",
    "\n",
    "# Sort rows and build the final levels list\n",
    "json_levels = []\n",
    "for lvl_idx in sorted(levels_dict.keys()):\n",
    "    sorted_rows = [row for _, row in sorted(levels_dict[lvl_idx])]\n",
    "    json_levels.append(sorted_rows)\n",
    "\n",
    "# Save to JSON\n",
    "with open(output_json_file, \"w\", encoding=\"utf-8\") as f:\n",
    "    json.dump({\"levels\": json_levels}, f, indent=2)\n",
    "\n",
    "print(f\"Converted {len(json_levels)} levels to {output_json_file}\")"
   ]
  },
  {
   "cell_type": "code",
   "execution_count": 48,
   "id": "c2e03187",
   "metadata": {},
   "outputs": [
    {
     "name": "stdout",
     "output_type": "stream",
     "text": [
      "[[0 0 0 0 0 0 0 0 0 0 0 0 0]\n",
      " [0 3 3 3 3 0 0 0 3 3 3 3 0]\n",
      " [0 3 0 0 3 6 6 6 3 0 0 3 0]\n",
      " [0 3 0 0 0 0 0 0 0 0 0 3 0]\n",
      " [0 3 3 0 5 5 5 5 5 0 3 3 0]\n",
      " [0 0 6 0 5 0 0 0 5 0 6 0 0]\n",
      " [0 0 6 0 5 0 2 0 5 0 6 0 0]\n",
      " [0 0 6 0 5 0 0 0 5 0 6 0 0]\n",
      " [0 3 3 0 5 5 5 5 5 0 3 3 0]\n",
      " [0 3 0 0 5 0 0 0 5 0 0 3 0]\n",
      " [0 3 0 0 5 0 2 0 5 0 0 3 0]\n",
      " [0 3 0 0 5 0 0 0 5 0 0 3 0]\n",
      " [0 3 3 0 5 5 5 5 5 0 3 3 0]\n",
      " [0 0 6 0 5 0 0 0 5 0 6 0 0]\n",
      " [0 0 6 0 5 0 2 0 5 0 6 0 0]\n",
      " [0 0 6 0 5 0 0 0 5 0 6 0 0]\n",
      " [0 3 3 0 5 5 5 5 5 0 3 3 0]\n",
      " [0 3 0 0 0 0 0 0 0 0 0 3 0]\n",
      " [0 3 0 0 3 6 6 6 3 0 0 3 0]\n",
      " [0 3 3 3 3 0 0 0 3 3 3 3 0]\n",
      " [0 0 0 0 0 0 0 0 0 0 0 0 0]]\n"
     ]
    }
   ],
   "source": [
    "import json\n",
    "import numpy as np\n",
    "\n",
    "path  = \"C:\\\\Users\\\\zakaria\\\\workspace\\\\banania-remake\\\\banania_pygame\\\\assets\\\\levels\\\\levels.json\"\n",
    "\n",
    "with open(path, \"r\") as f:\n",
    "    data = json.load(f)\n",
    "\n",
    "levels = data[\"levels\"]\n",
    "\n",
    "# Convert levels to numpy arrays\n",
    "level_arrays = [np.array(level) for level in levels]\n",
    "print(level_arrays[0])"
   ]
  },
  {
   "cell_type": "code",
   "execution_count": null,
   "id": "7564f80f",
   "metadata": {},
   "outputs": [],
   "source": []
  }
 ],
 "metadata": {
  "kernelspec": {
   "display_name": "banania",
   "language": "python",
   "name": "python3"
  },
  "language_info": {
   "codemirror_mode": {
    "name": "ipython",
    "version": 3
   },
   "file_extension": ".py",
   "mimetype": "text/x-python",
   "name": "python",
   "nbconvert_exporter": "python",
   "pygments_lexer": "ipython3",
   "version": "3.12.11"
  }
 },
 "nbformat": 4,
 "nbformat_minor": 5
}
